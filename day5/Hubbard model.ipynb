{
 "cells": [
  {
   "cell_type": "code",
   "execution_count": 1,
   "metadata": {},
   "outputs": [],
   "source": [
    "%load_ext autoreload\n",
    "%autoreload 2"
   ]
  },
  {
   "cell_type": "code",
   "execution_count": 2,
   "metadata": {},
   "outputs": [],
   "source": [
    "import numpy as np\n",
    "import matplotlib.pyplot as plt\n"
   ]
  },
  {
   "cell_type": "code",
   "execution_count": 3,
   "metadata": {},
   "outputs": [
    {
     "data": {
      "text/plain": [
       "array([[ 1.        ,  0.        ,  0.        ,  0.        ,  0.01831564],\n",
       "       [-1.        ,  1.        ,  0.        ,  0.        ,  0.        ],\n",
       "       [ 0.        , -0.36787944,  1.        ,  0.        ,  0.        ],\n",
       "       [ 0.        ,  0.        , -0.13533528,  1.        ,  0.        ],\n",
       "       [ 0.        ,  0.        ,  0.        , -0.04978707,  1.        ]])"
      ]
     },
     "execution_count": 3,
     "metadata": {},
     "output_type": "execute_result"
    }
   ],
   "source": [
    "def M_matrix(phi, Nt):\n",
    "    M = np.eye(Nt)\n",
    "    for i in range(Nt):\n",
    "        ip = (i+1)%Nt\n",
    "        p  = (i+1)//Nt\n",
    "        M[ip, i] = (-1)**(p+1)*np.exp(-phi[i])\n",
    "    return M\n",
    "\n",
    "def test_M_matrix():\n",
    "    Nt  = 5\n",
    "    phi = np.arange(Nt)\n",
    "    M = M_matrix(phi, Nt)\n",
    "    assert np.all(np.diag(M) == np.ones(Nt))\n",
    "    \n",
    "    offdiag     = np.arange(Nt)\n",
    "    sign = - np.ones(Nt)\n",
    "    sign[-1] = 1\n",
    "    offdiag = sign*np.exp(- offdiag)\n",
    "    # print(offdiag)\n",
    "    # print(np.diag(np.roll(M, -1, axis=1))) \n",
    "    assert np.all(np.isclose(offdiag, np.diag(np.roll(M, -1, axis=0))) )\n",
    "    \n",
    "   \n",
    "test_M_matrix()\n",
    "M_matrix(np.arange(5), 5)"
   ]
  },
  {
   "cell_type": "code",
   "execution_count": 4,
   "metadata": {},
   "outputs": [
    {
     "data": {
      "text/plain": [
       "(array([[-2.75,  2.5 ],\n",
       "        [-0.5 ,  0.25]]), array([[-2.75,  2.5 ],\n",
       "        [-0.5 ,  0.25]]))"
      ]
     },
     "execution_count": 4,
     "metadata": {},
     "output_type": "execute_result"
    }
   ],
   "source": [
    "a = np.array([[0.5,2],[0,0.5]])\n",
    "b = np.array([[-1.5,3],[-1,0.5]])\n",
    "\n",
    "a, np.linalg.det(a)\n",
    "\n",
    "c = np.array([a,a,a,a])\n",
    "d = np.array([b,b,b,b])\n",
    "(c @ d)[0],  a @ b"
   ]
  },
  {
   "cell_type": "code",
   "execution_count": 5,
   "metadata": {},
   "outputs": [
    {
     "data": {
      "text/plain": [
       "(array([[[ 2., -8.],\n",
       "         [ 0.,  2.]],\n",
       " \n",
       "        [[ 2., -8.],\n",
       "         [ 0.,  2.]],\n",
       " \n",
       "        [[ 2., -8.],\n",
       "         [ 0.,  2.]],\n",
       " \n",
       "        [[ 2., -8.],\n",
       "         [ 0.,  2.]]]), array([[ 2., -8.],\n",
       "        [ 0.,  2.]]))"
      ]
     },
     "execution_count": 5,
     "metadata": {},
     "output_type": "execute_result"
    }
   ],
   "source": [
    "np.linalg.inv(c), np.linalg.inv(a)"
   ]
  },
  {
   "cell_type": "code",
   "execution_count": 6,
   "metadata": {},
   "outputs": [],
   "source": [
    "def calc_sample(phi):\n",
    "    Nt = phi.size\n",
    "    \n",
    "    Mp = M_matrix(phi, Nt)\n",
    "    Mn = M_matrix(-phi, Nt)\n",
    "    MpMn = Mp @ Mn\n",
    "    Minv = np.linalg.inv(Mp)\n",
    "    \n",
    "    Z_sample = np.linalg.det(MpMn)\n",
    "    C_sample = np.linalg.inv(Mn)[:,0]*Z_sample\n",
    "    return Z_sample, C_sample\n",
    "\n",
    "def run(phi_samples):\n",
    "    Nt = phi_samples.shape[-1]\n",
    "    \n",
    "    Z_data = np.zeros(Nsamples)\n",
    "    C_data = np.zeros(phi_samples.shape)\n",
    "\n",
    "    # should be vectorized\n",
    "    for i, phi in enumerate(phi_samples):\n",
    "        Z_data[i], C_data[i] = calc_sample(phi)\n",
    "        \n",
    "    Z = np.average(Z_data)\n",
    "    C = 1/Z*np.average(C_data, axis = 0)\n",
    "    return C\n",
    "        \n",
    "    \n",
    "def sample_phi(Utilde, Nt, Nsamples):\n",
    "    phi = np.random.normal(0,np.sqrt(Utilde), size=(Nsamples, Nt))\n",
    "    return phi\n",
    "\n",
    "\n",
    "    \n",
    "    \n",
    "Nt = 48\n",
    "Nsamples = 10000\n",
    "U_tot = 2\n",
    "beta  = 2\n",
    "delta = beta/Nt\n",
    "Utilde = U_tot*delta\n",
    "\n",
    "phi_samples = sample_phi(Utilde, Nt, Nsamples)\n",
    "# C = run(phi_samples)\n",
    "# plt.plot(C)"
   ]
  },
  {
   "cell_type": "code",
   "execution_count": 7,
   "metadata": {},
   "outputs": [],
   "source": [
    "def M_matrices(phi_vecs):\n",
    "    Nsamples, Nt = phi_vecs.shape\n",
    "    M = np.zeros((Nsamples, Nt, Nt))\n",
    "    \n",
    "    indx = np.arange(Nt)\n",
    "    sign = (-1)**(1+(indx+1)//Nt)\n",
    "    \n",
    "    M[:,indx,indx]        = 1\n",
    "    M[:,(indx+1)%Nt,indx] = sign*np.exp(-phi_vecs)\n",
    "    return M\n",
    "\n",
    "def calc_C(phi_samples, K):\n",
    "    Nsamples, Nt = phi_samples.shape\n",
    "    \n",
    "    Mp = M_matrices(phi_samples)\n",
    "    Mn = M_matrices(-phi_samples)\n",
    "    Minv = np.linalg.inv(Mp)\n",
    "    MpMn = Mp @ Mn\n",
    "    \n",
    "    Z = np.linalg.det(MpMn)\n",
    "    C = np.average((Minv[:,:,0].T*Z).T/np.average(Z), axis=0)\n",
    "    \n",
    "    # bootstrap\n",
    "    choices = np.random.choice(np.arange(Nsamples), size = Nsamples*K)\n",
    "    \n",
    "    Z_s = Z[choices]\n",
    "    C_s = (Minv[choices,:,0]*Z_s[:,None])\n",
    "    Z_s_avg = np.average(Z_s.reshape(Nsamples, K), axis=0)\n",
    "    C_s = np.average(C_s.reshape((Nsamples, K, Nt)), axis=0)\n",
    "    \n",
    "    C_s = (C_s / Z_s_avg[:,None])\n",
    "    \n",
    "    C_std = np.std(C_s, axis=0)\n",
    "    \n",
    "    return C, C_std\n",
    "\n",
    "def C_exact(tau, U, beta):\n",
    "    return 1/(2*np.cosh(U*beta/4))*np.cosh(U/2*(tau-beta/2))\n"
   ]
  },
  {
   "cell_type": "code",
   "execution_count": 8,
   "metadata": {},
   "outputs": [],
   "source": [
    "phi_samp = sample_phi(Utilde, Nt = 48, Nsamples=10000)\n",
    "\n",
    "C, C_std = calc_C(phi_samp, K = 50)"
   ]
  },
  {
   "cell_type": "code",
   "execution_count": 9,
   "metadata": {},
   "outputs": [
    {
     "data": {
      "text/plain": [
       "[<matplotlib.lines.Line2D at 0x7f5494597048>]"
      ]
     },
     "execution_count": 9,
     "metadata": {},
     "output_type": "execute_result"
    },
    {
     "data": {
      "image/png": "[encoded data removed]",
      "text/plain": [
       "<Figure size 432x288 with 1 Axes>"
      ]
     },
     "metadata": {
      "needs_background": "light"
     },
     "output_type": "display_data"
    }
   ],
   "source": [
    "tau = 1*delta*np.arange(Nt)\n",
    "plt.errorbar(tau, C, yerr=C_std, linestyle = ' ', marker='o')\n",
    "plt.plot(tau, C_exact(tau, U_tot, beta))"
   ]
  },
  {
   "cell_type": "code",
   "execution_count": null,
   "metadata": {},
   "outputs": [],
   "source": [
    "import tensorflow as tf"
   ]
  },
  {
   "cell_type": "code",
   "execution_count": null,
   "metadata": {},
   "outputs": [],
   "source": [
    "tf."
   ]
  },
  {
   "cell_type": "code",
   "execution_count": null,
   "metadata": {},
   "outputs": [],
   "source": []
  },
  {
   "cell_type": "code",
   "execution_count": null,
   "metadata": {},
   "outputs": [],
   "source": [
    "plt.imshow(np.linalg.inv(D))"
   ]
  },
  {
   "cell_type": "code",
   "execution_count": null,
   "metadata": {},
   "outputs": [],
   "source": [
    "import scipy\n",
    "scipy.version.version"
   ]
  },
  {
   "cell_type": "code",
   "execution_count": 20,
   "metadata": {},
   "outputs": [
    {
     "name": "stdout",
     "output_type": "stream",
     "text": [
      "Warning, no convergence within specified maxiter\n",
      "[0. 0. 0. 0. 0. 0. 0. 0. 0. 0. 0. 0. 0. 0. 0. 0. 0. 0. 0. 0. 0. 0. 0. 0.\n",
      " 0. 0. 0. 0. 0. 0.]\n",
      "lgmres 201\n"
     ]
    },
    {
     "data": {
      "image/png": "[encoded data removed]",
      "text/plain": [
       "<Figure size 432x288 with 2 Axes>"
      ]
     },
     "metadata": {
      "needs_background": "light"
     },
     "output_type": "display_data"
    }
   ],
   "source": [
    "def err(A,x,b):\n",
    "    return \n",
    "\n",
    "def BiCGStab(A, b, x=None, tol=1e-7, maxiter = 100, max_retry=5):\n",
    "    fig,[ax1,ax2] = plt.subplots(2)\n",
    "    if x is None:\n",
    "        x = b\n",
    "    r = b - A.dot(x)\n",
    "    rtilde = r\n",
    "    \n",
    "    retry = 0\n",
    "    rho = rtilde.conj().dot(r)\n",
    "        \n",
    "    while rho == 0:\n",
    "        if retry >= max_retry:\n",
    "            raise ValueError(f'rho == 0 after {retry} retries, method failed')\n",
    "        print('rho == 0, recreating random x')\n",
    "        x = np.random.random(b.shape)\n",
    "        r = b - A.dot(x)\n",
    "        rho = rtilde.conj().dot(r)\n",
    "        retry += 1\n",
    "    \n",
    "    for i in range(maxiter):\n",
    "        if i == 0:\n",
    "            p = r\n",
    "        else:\n",
    "            if rhoprev == 0:\n",
    "                print(f\"ValueError('rho == 0'), {retry} retries\")\n",
    "                return x\n",
    "            beta = alpha * rho / (omega * rhoprev)\n",
    "            p    = r + beta * (p - omega * v)\n",
    "            \n",
    "        v = A.dot(p)\n",
    "        alpha = rho / (rtilde.conj().dot(v))\n",
    "        s = r - alpha * v\n",
    "        \n",
    "        ax1.semilogy(i, np.linalg.norm(s),'ko')\n",
    "        \n",
    "        n = 20\n",
    "        j = i - 100\n",
    "        if (j%n)==0 and j >= 0:\n",
    "            ax1.axvline(i, c = f'C{j//n}')\n",
    "            ax2.plot(A.dot(x) - b)\n",
    "        if np.linalg.norm(s) < tol:\n",
    "            print(f'convergence in {i} steps, with {retry} retries')\n",
    "            x = x + alpha * p\n",
    "            return x\n",
    "        else:\n",
    "            t = A.dot(s)\n",
    "            omega = t.conj().dot(s) / (t.conj().dot(t))\n",
    "            r = s - omega*t\n",
    "            x = x + alpha*p + omega*s\n",
    "            rhoprev = rho\n",
    "            rho = rtilde.conj().dot(r)\n",
    "            \n",
    "    print('Warning, no convergence within specified maxiter')\n",
    "    return x\n",
    "   \n",
    "N = 30\n",
    "np.random.seed(5)\n",
    "A = np.random.random((N,N))\n",
    "b = np.random.random(N)\n",
    "x_vecs = np.random.random((20,N))\n",
    "x0 = x_vecs[4]\n",
    "\n",
    "\n",
    "from temp import bicgstab\n",
    "from scipy.sparse.linalg import lgmres\n",
    "\n",
    "x1 = BiCGStab(A,b,np.zeros_like(b),maxiter=139)\n",
    "x2,iter_ = bicgstab(A,b)\n",
    "\n",
    "np.linalg.norm(A.dot(x1) - b), np.linalg.norm(A.dot(x2) - b)\n",
    "print('lgmres', iter_)"
   ]
  },
  {
   "cell_type": "code",
   "execution_count": 21,
   "metadata": {},
   "outputs": [
    {
     "data": {
      "text/plain": [
       "<matplotlib.image.AxesImage at 0x7f549411a2e8>"
      ]
     },
     "execution_count": 21,
     "metadata": {},
     "output_type": "execute_result"
    },
    {
     "data": {
      "image/png": "[encoded data removed]",
      "text/plain": [
       "<Figure size 432x288 with 1 Axes>"
      ]
     },
     "metadata": {
      "needs_background": "light"
     },
     "output_type": "display_data"
    }
   ],
   "source": [
    "plt.imshow(A)"
   ]
  },
  {
   "cell_type": "code",
   "execution_count": 70,
   "metadata": {},
   "outputs": [
    {
     "name": "stdout",
     "output_type": "stream",
     "text": [
      "2.13 ms ± 48.9 µs per loop (mean ± std. dev. of 7 runs, 100 loops each)\n"
     ]
    }
   ],
   "source": [
    "%timeit lgmres(A,b, atol=1e-5)"
   ]
  },
  {
   "cell_type": "code",
   "execution_count": 71,
   "metadata": {},
   "outputs": [
    {
     "name": "stdout",
     "output_type": "stream",
     "text": [
      "2.37 ms ± 620 µs per loop (mean ± std. dev. of 7 runs, 100 loops each)\n"
     ]
    }
   ],
   "source": []
  },
  {
   "cell_type": "markdown",
   "metadata": {},
   "source": [
    "# Hubbard model, correlator\n",
    "\n",
    "The correlator $C_{\\uparrow\\uparrow}(\\tau)$ involves a column of the inverse of the fermion matrix, $(M^{-1})_{\\tau,0}$. This can be written as $x = M^{-1}b^{\\tau}$, where $(b^{\\tau})_i = \\delta_{i\\tau}$. The problem to solve is then $Mx = b$, which we solve with the Bi-CGStab-algorithm. "
   ]
  },
  {
   "cell_type": "code",
   "execution_count": 23,
   "metadata": {},
   "outputs": [
    {
     "name": "stdout",
     "output_type": "stream",
     "text": [
      "(1, 2000, 2000)\n",
      "7.531517744064331\n",
      "16.213722467422485\n",
      "100000\n",
      "120.217848777771\n",
      "144.46513175964355\n",
      "144.46513175964355\n"
     ]
    },
    {
     "data": {
      "image/png": "[encoded data removed]",
      "text/plain": [
       "<Figure size 432x288 with 1 Axes>"
      ]
     },
     "metadata": {
      "needs_background": "light"
     },
     "output_type": "display_data"
    }
   ],
   "source": [
    "import time\n",
    "\n",
    "from scipy.sparse.linalg import lgmres, bicgstab, qmr\n",
    "np.random.seed(0)\n",
    "\n",
    "Nt = 2000\n",
    "Nsamples = 1\n",
    "phi_samp = sample_phi(Utilde, Nt = Nt, Nsamples=Nsamples)\n",
    "\n",
    "eye = np.eye(Nt)\n",
    "Ms = M_matrices(phi_samp)\n",
    "print(Ms.shape)\n",
    "\n",
    "total = 0\n",
    "tau = 1\n",
    "btau = eye[tau]\n",
    "\n",
    "for atol in 10.**(-np.arange(1,5)):\n",
    "    x0 = np.random.random(Nt)\n",
    "\n",
    "    start = time.time()\n",
    "    i = 0\n",
    "    x,info = qmr(Ms[i], btau, x0=x0, atol=atol, maxiter=100000)\n",
    "    if info != 0:\n",
    "        print(info)\n",
    "    stop = time.time()\n",
    "    total += stop-start\n",
    "    print(total)\n",
    "\n",
    "    plt.semilogx(atol, stop-start, 'ko')\n",
    "        \n",
    "print(total)"
   ]
  },
  {
   "cell_type": "code",
   "execution_count": 24,
   "metadata": {},
   "outputs": [
    {
     "ename": "NameError",
     "evalue": "name 'M' is not defined",
     "output_type": "error",
     "traceback": [
      "\u001b[0;31m---------------------------------------------------------------------------\u001b[0m",
      "\u001b[0;31mNameError\u001b[0m                                 Traceback (most recent call last)",
      "\u001b[0;32m<ipython-input-24-10c3e010cf1f>\u001b[0m in \u001b[0;36m<module>\u001b[0;34m\u001b[0m\n\u001b[0;32m----> 1\u001b[0;31m \u001b[0mbicgstab\u001b[0m\u001b[0;34m(\u001b[0m\u001b[0mM\u001b[0m\u001b[0;34m,\u001b[0m \u001b[0mbtau\u001b[0m\u001b[0;34m)\u001b[0m\u001b[0;34m\u001b[0m\u001b[0;34m\u001b[0m\u001b[0m\n\u001b[0m",
      "\u001b[0;31mNameError\u001b[0m: name 'M' is not defined"
     ]
    }
   ],
   "source": [
    "bicgstab(M, btau)"
   ]
  },
  {
   "cell_type": "code",
   "execution_count": 116,
   "metadata": {},
   "outputs": [
    {
     "data": {
      "text/plain": [
       "(array([-0.65766027,  0.28441258,  0.3148206 ,  0.59430219,  0.38418284,\n",
       "         0.6435049 ,  0.81978797,  0.70199297,  1.00314027,  1.35491234,\n",
       "         1.76052758,  1.50057859,  0.77699717,  0.75447153,  1.02360863,\n",
       "         0.85426372,  0.99445104,  0.97673328,  0.65891683,  0.78334006,\n",
       "         0.75553588,  0.94973944,  0.96637554,  0.86575677,  1.12318146,\n",
       "         1.21629143,  1.28424342,  1.53318582,  2.15491197,  3.24741705,\n",
       "         3.38900098,  3.66192842,  1.91190549,  3.8551681 ,  3.72896283,\n",
       "         3.34237881,  2.24401325,  1.92624728,  2.44053996,  2.42584623,\n",
       "         2.06593029,  2.25601657,  1.80915492,  3.09603446,  1.86691191,\n",
       "         1.2122107 ,  1.31341228,  1.08150972,  1.05299599,  1.31555226,\n",
       "         1.25784591,  0.90829158,  0.9796246 ,  1.05426505,  1.04147786,\n",
       "         0.87057237,  0.56179506,  0.62877548,  0.50994348,  0.44691292,\n",
       "         0.71671249,  0.77158051,  0.76229891,  0.75120075,  0.66589327,\n",
       "         1.18004037,  1.14545225,  1.37229098,  2.0694006 ,  1.75073126,\n",
       "         1.39525117,  1.65695944,  1.27525814,  1.39301289,  1.3329632 ,\n",
       "         1.80033025,  1.11189884,  2.36920271,  2.41248115,  1.93450432,\n",
       "         3.45868062,  3.62373539,  3.67676365,  2.86604405,  1.95900546,\n",
       "         2.16767126,  3.20988366,  2.12552722,  1.45432358,  1.6184046 ,\n",
       "         1.42038709,  1.22633641,  1.00089674,  0.89768841,  0.56249589,\n",
       "         0.88315793,  0.61362434,  0.5166077 ,  0.52698383,  0.35168805]),\n",
       " 1000)"
      ]
     },
     "execution_count": 116,
     "metadata": {},
     "output_type": "execute_result"
    }
   ],
   "source": [
    "lgmres(M,btau, x0=x0, atol=1e-6)"
   ]
  },
  {
   "cell_type": "code",
   "execution_count": 22,
   "metadata": {},
   "outputs": [
    {
     "ename": "NameError",
     "evalue": "name 'M' is not defined",
     "output_type": "error",
     "traceback": [
      "\u001b[0;31m---------------------------------------------------------------------------\u001b[0m",
      "\u001b[0;31mNameError\u001b[0m                                 Traceback (most recent call last)",
      "\u001b[0;32m<ipython-input-22-51f93a136eaf>\u001b[0m in \u001b[0;36m<module>\u001b[0;34m\u001b[0m\n\u001b[1;32m      2\u001b[0m \u001b[0;32mfrom\u001b[0m \u001b[0mscipy\u001b[0m\u001b[0;34m.\u001b[0m\u001b[0msparse\u001b[0m\u001b[0;34m.\u001b[0m\u001b[0mlinalg\u001b[0m \u001b[0;32mimport\u001b[0m \u001b[0mbicgstab\u001b[0m\u001b[0;34m,\u001b[0m \u001b[0mcgs\u001b[0m\u001b[0;34m\u001b[0m\u001b[0;34m\u001b[0m\u001b[0m\n\u001b[1;32m      3\u001b[0m \u001b[0;34m\u001b[0m\u001b[0m\n\u001b[0;32m----> 4\u001b[0;31m \u001b[0mb\u001b[0m \u001b[0;34m=\u001b[0m \u001b[0mBiCGStab\u001b[0m\u001b[0;34m(\u001b[0m\u001b[0mM\u001b[0m\u001b[0;34m,\u001b[0m \u001b[0mbtau\u001b[0m\u001b[0;34m,\u001b[0m \u001b[0mx0\u001b[0m\u001b[0;34m,\u001b[0m \u001b[0mmaxiter\u001b[0m\u001b[0;34m=\u001b[0m\u001b[0;36m1000\u001b[0m\u001b[0;34m)\u001b[0m\u001b[0;34m\u001b[0m\u001b[0;34m\u001b[0m\u001b[0m\n\u001b[0m\u001b[1;32m      5\u001b[0m \u001b[0mbicgstab\u001b[0m\u001b[0;34m(\u001b[0m\u001b[0mM\u001b[0m\u001b[0;34m,\u001b[0m \u001b[0mbtau\u001b[0m\u001b[0;34m,\u001b[0m \u001b[0mx0\u001b[0m\u001b[0;34m=\u001b[0m\u001b[0mx0\u001b[0m\u001b[0;34m)\u001b[0m\u001b[0;34m\u001b[0m\u001b[0;34m\u001b[0m\u001b[0m\n",
      "\u001b[0;31mNameError\u001b[0m: name 'M' is not defined"
     ]
    }
   ],
   "source": [
    "\n",
    "from scipy.sparse.linalg import bicgstab, cgs\n",
    "\n",
    "b = BiCGStab(M, btau, x0, maxiter=1000)\n",
    "bicgstab(M, btau, x0=x0)"
   ]
  },
  {
   "cell_type": "code",
   "execution_count": 413,
   "metadata": {},
   "outputs": [
    {
     "data": {
      "text/plain": [
       "[<matplotlib.lines.Line2D at 0x7fb2976c8080>]"
      ]
     },
     "execution_count": 413,
     "metadata": {},
     "output_type": "execute_result"
    },
    {
     "data": {
      "image/png": "[encoded data removed]",
      "text/plain": [
       "<Figure size 432x288 with 1 Axes>"
      ]
     },
     "metadata": {
      "needs_background": "light"
     },
     "output_type": "display_data"
    },
    {
     "data": {
      "image/png": "[encoded data removed]",
      "text/plain": [
       "<Figure size 432x288 with 1 Axes>"
      ]
     },
     "metadata": {
      "needs_background": "light"
     },
     "output_type": "display_data"
    }
   ],
   "source": [
    "plt.imshow(M)\n",
    "plt.figure()\n",
    "plt.plot(btau)\n",
    "plt.plot(x0)"
   ]
  },
  {
   "cell_type": "code",
   "execution_count": 400,
   "metadata": {},
   "outputs": [],
   "source": [
    "a = np.linalg.solve(M, btau)"
   ]
  },
  {
   "cell_type": "code",
   "execution_count": 335,
   "metadata": {},
   "outputs": [
    {
     "data": {
      "text/plain": [
       "[<matplotlib.lines.Line2D at 0x7fb297ae95c0>]"
      ]
     },
     "execution_count": 335,
     "metadata": {},
     "output_type": "execute_result"
    },
    {
     "data": {
      "image/png": "[encoded data removed]",
      "text/plain": [
       "<Figure size 432x288 with 1 Axes>"
      ]
     },
     "metadata": {
      "needs_background": "light"
     },
     "output_type": "display_data"
    }
   ],
   "source": [
    "plt.plot(b)\n",
    "plt.plot(a)"
   ]
  },
  {
   "cell_type": "code",
   "execution_count": 118,
   "metadata": {},
   "outputs": [
    {
     "data": {
      "text/plain": [
       "[<matplotlib.lines.Line2D at 0x7fb297ce75c0>]"
      ]
     },
     "execution_count": 118,
     "metadata": {},
     "output_type": "execute_result"
    },
    {
     "data": {
      "image/png": "[encoded data removed]",
      "text/plain": [
       "<Figure size 432x288 with 1 Axes>"
      ]
     },
     "metadata": {
      "needs_background": "light"
     },
     "output_type": "display_data"
    }
   ],
   "source": [
    "S = np.eye(D.shape[0])\n",
    "\n",
    "Q = np.eye(D.shape[0]) - D\n",
    "Dinv = S\n",
    "\n",
    "Dinvnp = np.linalg.inv(D)\n",
    "\n",
    "\n",
    "norm = []\n",
    "ind = np.arange(200)\n",
    "for i in ind:\n",
    "    Dinv = S + Q.dot(Dinv)\n",
    "    norm.append(np.linalg.norm(Dinv-Dinvnp))\n",
    "    \n",
    "plt.semilogy(ind, norm, 'ko')\n",
    "# np."
   ]
  },
  {
   "cell_type": "code",
   "execution_count": 101,
   "metadata": {},
   "outputs": [
    {
     "data": {
      "text/plain": [
       "array([[False, False, False, ..., False, False, False],\n",
       "       [False, False, False, ..., False, False, False],\n",
       "       [False, False, False, ..., False, False, False],\n",
       "       ...,\n",
       "       [False, False, False, ..., False, False, False],\n",
       "       [False, False, False, ..., False, False, False],\n",
       "       [False, False, False, ..., False, False, False]])"
      ]
     },
     "execution_count": 101,
     "metadata": {},
     "output_type": "execute_result"
    }
   ],
   "source": [
    "np.isclose(Ainv, Ainvnp)"
   ]
  },
  {
   "cell_type": "code",
   "execution_count": 104,
   "metadata": {},
   "outputs": [
    {
     "data": {
      "text/plain": [
       "1.3272983743957616"
      ]
     },
     "execution_count": 104,
     "metadata": {},
     "output_type": "execute_result"
    }
   ],
   "source": []
  },
  {
   "cell_type": "code",
   "execution_count": 102,
   "metadata": {},
   "outputs": [
    {
     "data": {
      "text/plain": [
       "<matplotlib.colorbar.Colorbar at 0x7fb298dec7f0>"
      ]
     },
     "execution_count": 102,
     "metadata": {},
     "output_type": "execute_result"
    },
    {
     "data": {
      "image/png": "[encoded data removed]",
      "text/plain": [
       "<Figure size 432x288 with 2 Axes>"
      ]
     },
     "metadata": {
      "needs_background": "light"
     },
     "output_type": "display_data"
    }
   ],
   "source": [
    "m = plt.imshow(Ainvnp - Ainv)\n",
    "plt.colorbar(m)"
   ]
  },
  {
   "cell_type": "code",
   "execution_count": 99,
   "metadata": {},
   "outputs": [
    {
     "data": {
      "text/plain": [
       "<matplotlib.colorbar.Colorbar at 0x7fb298f593c8>"
      ]
     },
     "execution_count": 99,
     "metadata": {},
     "output_type": "execute_result"
    },
    {
     "data": {
      "image/png": "[encoded data removed]",
      "text/plain": [
       "<Figure size 432x288 with 2 Axes>"
      ]
     },
     "metadata": {
      "needs_background": "light"
     },
     "output_type": "display_data"
    }
   ],
   "source": [
    "m = plt.imshow(Ainvnp)\n",
    "plt.colorbar(m)"
   ]
  },
  {
   "cell_type": "code",
   "execution_count": null,
   "metadata": {},
   "outputs": [],
   "source": [
    "for i in range(5)\n",
    "    \n",
    "    Nsamples, Nt = phi_samples.shape\n",
    "    \n",
    "    Mp = M_matrices(phi_samples)\n",
    "    Mn = M_matrices(-phi_samples)\n",
    "    Minv = np.linalg.inv(Mp)\n",
    "    MpMn = Mp @ Mn"
   ]
  },
  {
   "cell_type": "code",
   "execution_count": null,
   "metadata": {},
   "outputs": [],
   "source": []
  },
  {
   "cell_type": "code",
   "execution_count": null,
   "metadata": {},
   "outputs": [],
   "source": []
  },
  {
   "cell_type": "code",
   "execution_count": null,
   "metadata": {},
   "outputs": [],
   "source": []
  },
  {
   "cell_type": "code",
   "execution_count": null,
   "metadata": {},
   "outputs": [],
   "source": []
  },
  {
   "cell_type": "code",
   "execution_count": null,
   "metadata": {},
   "outputs": [],
   "source": []
  },
  {
   "cell_type": "code",
   "execution_count": null,
   "metadata": {},
   "outputs": [],
   "source": []
  },
  {
   "cell_type": "code",
   "execution_count": null,
   "metadata": {},
   "outputs": [],
   "source": []
  },
  {
   "cell_type": "code",
   "execution_count": null,
   "metadata": {},
   "outputs": [],
   "source": []
  },
  {
   "cell_type": "code",
   "execution_count": null,
   "metadata": {},
   "outputs": [],
   "source": []
  },
  {
   "cell_type": "code",
   "execution_count": null,
   "metadata": {},
   "outputs": [],
   "source": []
  },
  {
   "cell_type": "code",
   "execution_count": null,
   "metadata": {},
   "outputs": [],
   "source": []
  },
  {
   "cell_type": "code",
   "execution_count": null,
   "metadata": {},
   "outputs": [],
   "source": []
  }
 ],
 "metadata": {
  "kernelspec": {
   "display_name": "Python 3",
   "language": "python",
   "name": "python3"
  },
  "language_info": {
   "codemirror_mode": {
    "name": "ipython",
    "version": 3
   },
   "file_extension": ".py",
   "mimetype": "text/x-python",
   "name": "python",
   "nbconvert_exporter": "python",
   "pygments_lexer": "ipython3",
   "version": "3.7.3"
  }
 },
 "nbformat": 4,
 "nbformat_minor": 2
}
